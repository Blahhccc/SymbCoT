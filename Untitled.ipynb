{
 "cells": [
  {
   "cell_type": "code",
   "execution_count": 7,
   "id": "ef0ee450-10b8-47a6-9b2c-5e98b8435e03",
   "metadata": {
    "execution": {
     "iopub.execute_input": "2024-10-25T08:23:14.676717Z",
     "iopub.status.busy": "2024-10-25T08:23:14.676316Z",
     "iopub.status.idle": "2024-10-25T08:23:14.680894Z",
     "shell.execute_reply": "2024-10-25T08:23:14.680079Z",
     "shell.execute_reply.started": "2024-10-25T08:23:14.676697Z"
    }
   },
   "outputs": [],
   "source": [
    "from openai import OpenAI\n",
    "from pathlib import Path"
   ]
  },
  {
   "cell_type": "code",
   "execution_count": 14,
   "id": "0ddf9411-022a-40c0-b9d6-70ac36aff436",
   "metadata": {
    "execution": {
     "iopub.execute_input": "2024-10-25T11:22:18.883819Z",
     "iopub.status.busy": "2024-10-25T11:22:18.882940Z",
     "iopub.status.idle": "2024-10-25T11:22:19.158163Z",
     "shell.execute_reply": "2024-10-25T11:22:19.156763Z",
     "shell.execute_reply.started": "2024-10-25T11:22:18.883765Z"
    }
   },
   "outputs": [
    {
     "name": "stdout",
     "output_type": "stream",
     "text": [
      "200\n",
      "{\"id\":\"csdnuqsjot6u0d4lqe50\",\"object\":\"file\",\"bytes\":4311,\"created_at\":1729855339,\"filename\":\"translation.txt\",\"purpose\":\"file-extract\",\"status\":\"ok\",\"status_details\":\"\"}\n"
     ]
    }
   ],
   "source": [
    "import requests\n",
    "\n",
    "# 文件路径\n",
    "file_path = \"prompts/DataFountain/translation.txt\"\n",
    "\n",
    "# 请求的 URL\n",
    "url = \"https://api.moonshot.cn/v1/files\"\n",
    "\n",
    "headers = {\n",
    "    'Authorization': 'sk-gNToXJPO4Ih8NDZnDloSXR780dQDEZ2Epu49wcVA1sWb4Ecw'\n",
    "}\n",
    "\n",
    "# 准备文件数据\n",
    "files = {'file': open(file_path, 'rb')}\n",
    "\n",
    "# 发起 POST 请求\n",
    "response = requests.post(url, headers=headers, files=files)\n",
    "\n",
    "# 打印响应内容\n",
    "print(response.status_code)\n",
    "print(response.text)"
   ]
  },
  {
   "cell_type": "code",
   "execution_count": 16,
   "id": "7565d2b2-c1b9-4c98-b007-98a443f07ff3",
   "metadata": {
    "execution": {
     "iopub.execute_input": "2024-10-25T13:48:24.004507Z",
     "iopub.status.busy": "2024-10-25T13:48:24.003749Z",
     "iopub.status.idle": "2024-10-25T13:49:09.269232Z",
     "shell.execute_reply": "2024-10-25T13:49:09.267952Z",
     "shell.execute_reply.started": "2024-10-25T13:48:24.004451Z"
    }
   },
   "outputs": [
    {
     "name": "stdout",
     "output_type": "stream",
     "text": [
      "根据提供的规则描述，我们可以定义以下谓词：\n",
      "\n",
      "1. 网络安全事件：CyberSecurityEvent(E) 表示事件 E 是一个网络安全事件。\n",
      "2. 有害程序事件：MaliciousProgramEvent(E) 表示事件 E 是一个有害程序事件。\n",
      "3. 网络攻击事件：CyberAttackEvent(E) 表示事件 E 是一个网络攻击事件。\n",
      "4. 信息破坏事件：InformationDestructionEvent(E) 表示事件 E 是一个信息破坏事件。\n",
      "5. 信息内容安全事件：InformationContentSecurityEvent(E) 表示事件 E 是一个信息内容安全事件。\n",
      "6. 设备设施故障：EquipmentFailureEvent(E) 表示事件 E 是一个设备设施故障。\n",
      "7. 灾害性事件：DisasterEvent(E) 表示事件 E 是一个灾害性事件。\n",
      "8. 其他网络安全事件：OtherCyberSecurityEvent(E) 表示事件 E 是其他类型的网络安全事件。\n",
      "9. 计算机病毒事件：ComputerVirusEvent(E) 表示事件 E 是一个计算机病毒事件。\n",
      "10. 蠕虫事件：WormEvent(E) 表示事件 E 是一个蠕虫事件。\n",
      "11. 特洛伊木马事件：TrojanEvent(E) 表示事件 E 是一个特洛伊木马事件。\n",
      "12. 僵尸网络事件：BotnetEvent(E) 表示事件 E 是一个僵尸网络事件。\n",
      "13. 混合程序攻击事件：HybridAttackEvent(E) 表示事件 E 是一个混合程序攻击事件。\n",
      "14. 网页内嵌恶意代码事件：MaliciousCodeInWebEvent(E) 表示事件 E 是一个网页内嵌恶意代码事件。\n",
      "15. 其他有害程序事件：OtherMaliciousProgramEvent(E) 表示事件 E 是其他类型的有害程序事件。\n",
      "\n",
      "根据规则的逻辑结构，我们可以使用一阶逻辑的连接词和量词构建以下逻辑表达式：\n",
      "\n",
      "∀E (CyberSecurityEvent(E) → (MaliciousProgramEvent(E) ∨ CyberAttackEvent(E) ∨ InformationDestructionEvent(E) ∨ InformationContentSecurityEvent(E) ∨ EquipmentFailureEvent(E) ∨ DisasterEvent(E) ∨ OtherCyberSecurityEvent(E)))\n",
      "\n",
      "∀E (MaliciousProgramEvent(E) → (ComputerVirusEvent(E) ∨ WormEvent(E) ∨ TrojanEvent(E) ∨ BotnetEvent(E) ∨ HybridAttackEvent(E) ∨ MaliciousCodeInWebEvent(E) ∨ OtherMaliciousProgramEvent(E)))\n",
      "\n",
      "这两个表达式分别表示：\n",
      "1. 任何网络安全事件 E 都是有害程序事件、网络攻击事件、信息破坏事件、信息内容安全事件、设备设施故障、灾害性事件或其他网络安全事件中的一种。\n",
      "2. 任何有害程序事件 E 都是计算机病毒事件、蠕虫事件、特洛伊木马事件、僵尸网络事件、混合程序攻击事件、网页内嵌恶意代码事件或其他有害程序事件中的一种。\n"
     ]
    }
   ],
   "source": [
    "client = OpenAI(\n",
    "    api_key=\"sk-gNToXJPO4Ih8NDZnDloSXR780dQDEZ2Epu49wcVA1sWb4Ecw\",\n",
    "    base_url=\"https://api.moonshot.cn/v1\",\n",
    ")\n",
    "\n",
    "file_object = client.files.create(file=Path(\"prompts/DataFountain/translation.txt\"), purpose=\"file-extract\")\n",
    "file_content = client.files.content(file_id=file_object.id).text\n",
    "\n",
    "messages = [\n",
    "    {\n",
    "        \"role\": \"system\",\n",
    "        \"content\": \"你是 Kimi，由 Moonshot AI 提供的人工智能助手，你更擅长中文和英文的对话。你会为用户提供安全，有帮助，准确的回答。同时，你会拒绝一切涉及恐怖主义，种族歧视，黄色暴力等问题的回答。Moonshot AI 为专有名词，不可翻译成其他语言。\"\n",
    "    },\n",
    "    {\n",
    "        \"role\": \"system\",\n",
    "        \"content\": file_content,\n",
    "    },\n",
    "    {\n",
    "        \"role\": \"user\",\n",
    "        \"content\": \"你好，请根据txt内容生成回答。\"\n",
    "    }\n",
    "]\n",
    "\n",
    "completion = client.chat.completions.create(\n",
    "  model=\"moonshot-v1-32k\",\n",
    "  messages=messages,\n",
    "  temperature=0,\n",
    ")\n",
    "\n",
    "print(completion.choices[0].message.content)"
   ]
  },
  {
   "cell_type": "code",
   "execution_count": null,
   "id": "baa9676a-330a-4ed3-a99e-15163a2d61f5",
   "metadata": {},
   "outputs": [],
   "source": []
  }
 ],
 "metadata": {
  "kernelspec": {
   "display_name": "Python 3 (ipykernel)",
   "language": "python",
   "name": "python3"
  },
  "language_info": {
   "codemirror_mode": {
    "name": "ipython",
    "version": 3
   },
   "file_extension": ".py",
   "mimetype": "text/x-python",
   "name": "python",
   "nbconvert_exporter": "python",
   "pygments_lexer": "ipython3",
   "version": "3.10.12"
  }
 },
 "nbformat": 4,
 "nbformat_minor": 5
}
