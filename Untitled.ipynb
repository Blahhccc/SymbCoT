{
 "cells": [
  {
   "cell_type": "code",
   "execution_count": 1,
   "id": "ef0ee450-10b8-47a6-9b2c-5e98b8435e03",
   "metadata": {
    "execution": {
     "iopub.execute_input": "2024-10-24T13:13:00.814913Z",
     "iopub.status.busy": "2024-10-24T13:13:00.814112Z",
     "iopub.status.idle": "2024-10-24T13:13:01.151297Z",
     "shell.execute_reply": "2024-10-24T13:13:01.150413Z",
     "shell.execute_reply.started": "2024-10-24T13:13:00.814854Z"
    }
   },
   "outputs": [],
   "source": [
    "from openai import OpenAI"
   ]
  },
  {
   "cell_type": "code",
   "execution_count": null,
   "id": "0ddf9411-022a-40c0-b9d6-70ac36aff436",
   "metadata": {},
   "outputs": [],
   "source": [
    "import requests\n",
    "\n",
    "# 文件路径\n",
    "file_path = \"your_file_path\"\n",
    "\n",
    "# 请求的 URL\n",
    "url = \"https://api.moonshot.cn/v1/files\"\n",
    "\n",
    "# 准备文件数据\n",
    "files = {'file': open(file_path, 'rb')}\n",
    "\n",
    "# 发起 POST 请求\n",
    "response = requests.post(url, files=files)\n",
    "\n",
    "# 打印响应内容\n",
    "print(response.status_code)\n",
    "print(response.text)"
   ]
  },
  {
   "cell_type": "code",
   "execution_count": 2,
   "id": "7565d2b2-c1b9-4c98-b007-98a443f07ff3",
   "metadata": {
    "execution": {
     "iopub.execute_input": "2024-10-24T13:13:41.835083Z",
     "iopub.status.busy": "2024-10-24T13:13:41.834311Z",
     "iopub.status.idle": "2024-10-24T13:13:44.557986Z",
     "shell.execute_reply": "2024-10-24T13:13:44.557108Z",
     "shell.execute_reply.started": "2024-10-24T13:13:41.835024Z"
    }
   },
   "outputs": [
    {
     "name": "stdout",
     "output_type": "stream",
     "text": [
      "你好，李雷！1+1等于2。这是一个非常简单的数学问题。如果你有其他问题，欢迎随时问我。\n"
     ]
    }
   ],
   "source": [
    "client = OpenAI(\n",
    "    api_key=\"sk-gNToXJPO4Ih8NDZnDloSXR780dQDEZ2Epu49wcVA1sWb4Ecw\",\n",
    "    base_url=\"https://api.moonshot.cn/v1\",\n",
    ")\n",
    "\n",
    "completion = client.chat.completions.create(\n",
    "    model=\"moonshot-v1-8k\",\n",
    "    messages=[\n",
    "        {\"role\": \"system\", \"content\": \"你是 Kimi，由 Moonshot AI 提供的人工智能助手，你更擅长中文和英文的对话。你会为用户提供安全，有帮助，准确的回答。同时，你会拒绝一切涉及恐怖主义，种族歧视，黄色暴力等问题的回答。Moonshot AI 为专有名词，不可翻译成其他语言。\"},\n",
    "        {\"role\": \"user\", \"content\": \"你好，我叫李雷，1+1等于多少？\"}\n",
    "    ],\n",
    "    temperature=0.3,\n",
    ")\n",
    "\n",
    "print(completion.choices[0].message.content)"
   ]
  },
  {
   "cell_type": "code",
   "execution_count": null,
   "id": "baa9676a-330a-4ed3-a99e-15163a2d61f5",
   "metadata": {},
   "outputs": [],
   "source": []
  }
 ],
 "metadata": {
  "kernelspec": {
   "display_name": "Python 3 (ipykernel)",
   "language": "python",
   "name": "python3"
  },
  "language_info": {
   "codemirror_mode": {
    "name": "ipython",
    "version": 3
   },
   "file_extension": ".py",
   "mimetype": "text/x-python",
   "name": "python",
   "nbconvert_exporter": "python",
   "pygments_lexer": "ipython3",
   "version": "3.10.12"
  }
 },
 "nbformat": 4,
 "nbformat_minor": 5
}
